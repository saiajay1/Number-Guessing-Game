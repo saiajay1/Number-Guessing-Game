{
 "cells": [
  {
   "cell_type": "code",
   "execution_count": 1,
   "metadata": {},
   "outputs": [
    {
     "name": "stdout",
     "output_type": "stream",
     "text": [
      "Number guessing game\n",
      "Guess a number (between 1 and 9):\n",
      "2\n",
      "Your guess was too high: Guess a number lower than 2\n",
      "1\n",
      "Congratulation YOU WON!!!\n"
     ]
    }
   ],
   "source": [
    "# Number Guessing Game implementation \n",
    "# using Python \n",
    "# GITHUB USERNAME SAIAJAY1\n",
    "\n",
    "import random \n",
    "\n",
    "print(\"Number guessing game\") \n",
    "\n",
    "# randint function to generate the \n",
    "# random number b/w 1 to 9 \n",
    "number = random.randint(1, 9) \n",
    "\n",
    "# number of chances to be given \n",
    "# to the user to guess the number \n",
    "# or it is the inputs given by user \n",
    "# into input box here number of \n",
    "# chances are 5 \n",
    "chances = 0\n",
    "\n",
    "print(\"Guess a number (between 1 and 9):\") \n",
    "\n",
    "# While loop to count the number \n",
    "# of chances \n",
    "while chances < 5: \n",
    "\t\n",
    "\t# Enter a number between 1 to 9 \n",
    "\tguess = int(input()) \n",
    "\t\n",
    "\t# Compare the user entered number \n",
    "\t# with the number to be guessed \n",
    "\tif guess == number: \n",
    "\t\t\n",
    "\t\t# if number entered by user \n",
    "\t\t# is same as the generated \n",
    "\t\t# number by randint function then \n",
    "\t\t# break from loop using loop \n",
    "\t\t# control statement \"break\" \n",
    "\t\tprint(\"Congratulation YOU WON!!!\") \n",
    "\t\tbreak\n",
    "\t\t\n",
    "\t# Check if the user entered \n",
    "\t# number is smaller than \n",
    "\t# the generated number \n",
    "\telif guess < number: \n",
    "\t\tprint(\"Your guess was too low: Guess a number higher than\", guess) \n",
    "\n",
    "\t# The user entered number is \n",
    "\t# greater than the generated \n",
    "\t# number\t\t\t \n",
    "\telse: \n",
    "\t\tprint(\"Your guess was too high: Guess a number lower than\", guess) \n",
    "\t\t\n",
    "\t# Increase the value of chance by 1 \n",
    "\tchances += 1\n",
    "\t\t\n",
    "\t\t\n",
    "# Check whether the user \n",
    "# guessed the correct number \n",
    "if not chances < 5: \n",
    "\tprint(\"YOU LOSE!!! The number is\", number) \n",
    "# Made By Ajay kumar"
   ]
  },
  {
   "cell_type": "code",
   "execution_count": null,
   "metadata": {},
   "outputs": [],
   "source": []
  }
 ],
 "metadata": {
  "kernelspec": {
   "display_name": "Python 3",
   "language": "python",
   "name": "python3"
  },
  "language_info": {
   "codemirror_mode": {
    "name": "ipython",
    "version": 3
   },
   "file_extension": ".py",
   "mimetype": "text/x-python",
   "name": "python",
   "nbconvert_exporter": "python",
   "pygments_lexer": "ipython3",
   "version": "3.7.6"
  }
 },
 "nbformat": 4,
 "nbformat_minor": 4
}
